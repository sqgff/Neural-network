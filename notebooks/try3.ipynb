{
 "cells": [
  {
   "cell_type": "code",
   "execution_count": 1,
   "metadata": {
    "collapsed": false
   },
   "outputs": [
    {
     "name": "stdout",
     "output_type": "stream",
     "text": [
      "Populating the interactive namespace from numpy and matplotlib\n"
     ]
    }
   ],
   "source": [
    "from rbm import RBM\n",
    "from autoencoder_rbm import Autoencoder_RBM\n",
    "import tensorflow as tf\n",
    "import numpy as np\n",
    "import matplotlib.pyplot as plt\n",
    "import pandas as pd\n",
    "from sklearn.preprocessing import MinMaxScaler\n",
    "%pylab inline"
   ]
  },
  {
   "cell_type": "code",
   "execution_count": 10,
   "metadata": {
    "collapsed": true
   },
   "outputs": [],
   "source": [
    "df = pd.read_csv('../data/128times_overlap.csv')\n",
    "df.drop(\"timestamp\", inplace=True, axis=1)"
   ]
  },
  {
   "cell_type": "code",
   "execution_count": 11,
   "metadata": {
    "collapsed": true
   },
   "outputs": [],
   "source": [
    "min_max_scaler = MinMaxScaler()\n",
    "df = min_max_scaler.fit_transform(df)"
   ]
  },
  {
   "cell_type": "code",
   "execution_count": 24,
   "metadata": {
    "collapsed": false
   },
   "outputs": [
    {
     "name": "stderr",
     "output_type": "stream",
     "text": [
      "/Users/sq/Documents/projects/projet3A/notebooks/autoencoder_rbm.py:188: RuntimeWarning: overflow encountered in exp\n",
      "  return 1 / (1.0 + np.exp(-x))\n"
     ]
    },
    {
     "name": "stdout",
     "output_type": "stream",
     "text": [
      "hidden layer 1 has been pretrained\n",
      "hidden layer 2 has been pretrained\n",
      "hidden layer 3 has been pretrained\n",
      "Iter 1: Training set: current loss 0.416286  ||  Validation set: current loss 0.416516\n",
      "Validation:  [1232 1247 1233 1246 1300 1261 1262 1248 1301 1231  453 1234 1223  961  960\n",
      "  959  958  957  954  953  950  949  956  955  946]\n",
      "Iter 2: Training set: current loss 0.414456  ||  Validation set: current loss 0.414768\n",
      "Validation:  [1232 1247 1233 1246 1300 1261 1262 1248 1301 1231  453 1234 1223  961  960\n",
      "  959  958  957  954  953  950  949  956 1299  955]\n",
      "Iter 3: Training set: current loss 0.413033  ||  Validation set: current loss 0.413217\n",
      "Validation:  [1232 1247 1233 1246 1300 1261 1262 1248 1301 1231  453 1234 1223  961  960\n",
      "  959  958  957  954  953 1299  950  949  956  955]\n",
      "Iter 4: Training set: current loss 0.411621  ||  Validation set: current loss 0.411723\n",
      "Validation:  [1232 1247 1233 1246 1300 1261 1262 1248 1301 1231  453 1234 1223  961  960\n",
      "  959  958  957 1299  954  953  950  949  956  955]\n",
      "Iter 5: Training set: current loss 0.410252  ||  Validation set: current loss 0.410441\n",
      "Validation:  [1232 1247 1233 1246 1300 1261 1262 1248 1301 1231  453 1234 1223  961  960\n",
      " 1299  959  958  957  954  953  950  949  956  955]\n",
      "Iter 6: Training set: current loss 0.409186  ||  Validation set: current loss 0.409475\n",
      "Validation:  [1232 1247 1233 1246 1300 1261 1262 1248 1301 1231  453 1234 1223 1299  961\n",
      "  960  959  958  957  954  953  950  949  956  955]\n",
      "Iter 7: Training set: current loss 0.408357  ||  Validation set: current loss 0.408525\n",
      "Validation:  [1232 1247 1233 1246 1300 1261 1262 1248 1301 1231  453 1234 1223 1299  961\n",
      "  960  959  958  957  954  953  950  949  956  955]\n",
      "Iter 8: Training set: current loss 0.407422  ||  Validation set: current loss 0.407600\n",
      "Validation:  [1232 1247 1233 1246 1300 1261 1262 1248 1301 1231  453 1234 1223 1299  961\n",
      "  960  959  958  957  954  953  950  949  956  955]\n",
      "Iter 9: Training set: current loss 0.406727  ||  Validation set: current loss 0.406789\n",
      "Validation:  [1232 1247 1233 1246 1300 1261 1262 1248 1301 1231  453 1234 1223 1299  961\n",
      "  960  959  958  957  954  953  950  949  956  955]\n",
      "Iter 10: Training set: current loss 0.405983  ||  Validation set: current loss 0.406143\n",
      "Validation:  [1232 1247 1233 1246 1300 1261 1262 1248 1301 1231  453 1234 1223 1299  961\n",
      "  960  959  958  957  954  953  950  949  956  955]\n",
      "Iter 11: Training set: current loss 0.405251  ||  Validation set: current loss 0.405470\n",
      "Validation:  [1232 1247 1233 1246 1300 1261 1262 1248 1301 1231  453 1234 1223 1299  961\n",
      "  960  959  958  957  954  953  950  949  956  955]\n",
      "Iter 12: Training set: current loss 0.404713  ||  Validation set: current loss 0.404948\n",
      "Validation:  [1232 1247 1233 1246 1300 1261 1262 1248 1301 1231  453 1234 1223 1299  961\n",
      "  960  959  958  957  954  953  950  949  956  955]\n",
      "Iter 13: Training set: current loss 0.404230  ||  Validation set: current loss 0.404232\n",
      "Validation:  [1232 1247 1233 1246 1300 1261 1262 1248 1301 1231  453 1234 1223 1299  961\n",
      "  960  959  958  957  954  953  950  949  956  955]\n",
      "Iter 14: Training set: current loss 0.403627  ||  Validation set: current loss 0.403740\n",
      "Validation:  [1232 1247 1233 1246 1300 1261 1262 1248 1301 1231  453 1234 1223 1299  961\n",
      "  960  959  958  957  954  953  950  949  956  955]\n",
      "Iter 15: Training set: current loss 0.403157  ||  Validation set: current loss 0.403280\n",
      "Validation:  [1232 1247 1233 1246 1300 1261 1262 1248 1301 1231  453 1234 1223 1299  961\n",
      "  960  959  958  957  954  953  950  949  956  955]\n",
      "Iter 16: Training set: current loss 0.402725  ||  Validation set: current loss 0.402807\n",
      "Validation:  [1232 1247 1233 1246 1300 1261 1262 1248 1301 1231  453 1234 1223 1299  961\n",
      "  960  959  958  957  954  953  950  949  956  955]\n",
      "Iter 17: Training set: current loss 0.402320  ||  Validation set: current loss 0.402408\n",
      "Validation:  [1232 1247 1233 1246 1300 1261 1262 1248 1301 1231  453 1234 1223 1299  961\n",
      "  960  959  958  957  954  953  950  949  956  955]\n",
      "Iter 18: Training set: current loss 0.401954  ||  Validation set: current loss 0.401887\n",
      "Validation:  [1232 1247 1233 1246 1300 1261 1262 1248 1301 1231  453 1234 1223 1299  961\n",
      "  960  959  958  957  954  953  950  949  956  955]\n",
      "Iter 19: Training set: current loss 0.401571  ||  Validation set: current loss 0.401606\n",
      "Validation:  [1232 1247 1233 1246 1300 1261 1262 1248 1301 1231  453 1234 1223 1299  961\n",
      "  960  959  958  957  954  953  950  949  956  955]\n",
      "Iter 20: Training set: current loss 0.401228  ||  Validation set: current loss 0.401172\n",
      "Validation:  [1232 1247 1233 1246 1300 1261 1262 1248 1301 1231  453 1234 1223 1299  961\n",
      "  960  959  958  957  954  953  950  949  956  955]\n",
      "Iter 21: Training set: current loss 0.400842  ||  Validation set: current loss 0.400795\n",
      "Validation:  [1232 1247 1233 1246 1300 1261 1262 1248 1301 1231  453 1234 1223 1299  961\n",
      "  960  959  958  957  954  953  950  949  956  955]\n",
      "Iter 22: Training set: current loss 0.400423  ||  Validation set: current loss 0.400562\n",
      "Validation:  [1232 1247 1233 1246 1300 1261 1262 1248 1301 1231  453 1234 1223 1299  961\n",
      "  960  959  958  957  954  953  950  949  956  955]\n",
      "Iter 23: Training set: current loss 0.400220  ||  Validation set: current loss 0.400238\n",
      "Validation:  [1232 1247 1233 1246 1300 1261 1262 1248 1301 1231  453 1234 1223 1299  961\n",
      "  960  959  958  957  954  953  950  949  956  955]\n",
      "Iter 24: Training set: current loss 0.399920  ||  Validation set: current loss 0.399952\n",
      "Validation:  [1232 1247 1233 1246 1300 1261 1262 1248 1301 1231  453 1234 1223 1299  961\n",
      "  960  959  958  957  954  953  950  949  956  955]\n",
      "Iter 25: Training set: current loss 0.399636  ||  Validation set: current loss 0.399591\n",
      "Validation:  [1232 1247 1233 1246 1300 1261 1262 1248 1301 1231  453 1234 1223 1299  961\n",
      "  960  959  958  957  954  953  950  949  956  955]\n",
      "Iter 26: Training set: current loss 0.399364  ||  Validation set: current loss 0.399315\n",
      "Validation:  [1232 1247 1233 1246 1300 1261 1262 1248 1301 1231  453 1234 1223 1299  961\n",
      "  960  959  958  957  954  953  950  949  956  955]\n",
      "Iter 27: Training set: current loss 0.399080  ||  Validation set: current loss 0.399166\n",
      "Validation:  [1232 1247 1233 1246 1300 1261 1262 1248 1301 1231  453 1234 1223 1299  961\n",
      "  960  959  958  957  954  953  950  949  956  955]\n",
      "Iter 28: Training set: current loss 0.398939  ||  Validation set: current loss 0.398845\n",
      "Validation:  [1232 1247 1233 1246 1300 1261 1262 1248 1301 1231  453 1234 1223 1299  961\n",
      "  960  959  958  957  954  953  950  949  956  955]\n",
      "Iter 29: Training set: current loss 0.398562  ||  Validation set: current loss 0.398629\n",
      "Validation:  [1232 1247 1233 1246 1300 1261 1262 1248 1301 1231  453 1234 1223 1299  961\n",
      "  960  959  958  957  954  953  950  949  956  955]\n",
      "Iter 30: Training set: current loss 0.398410  ||  Validation set: current loss 0.398304\n",
      "Validation:  [1232 1247 1233 1246 1300 1261 1262 1248 1301 1231  453 1234 1223 1299  961\n",
      "  960  959  958  957  954  953  950  949  956  955]\n",
      "Iter 31: Training set: current loss 0.398214  ||  Validation set: current loss 0.398161\n",
      "Validation:  [1232 1247 1233 1246 1300 1261 1262 1248 1301 1231  453 1234 1223 1299  961\n",
      "  960  959  958  957  954  953  950  949  956  955]\n",
      "Iter 32: Training set: current loss 0.397910  ||  Validation set: current loss 0.397864\n",
      "Validation:  [1232 1247 1233 1246 1300 1261 1262 1248 1301 1231  453 1234 1223 1299  961\n",
      "  960  959  958  957  954  953  950  949  956  955]\n",
      "Iter 33: Training set: current loss 0.397858  ||  Validation set: current loss 0.397651\n",
      "Validation:  [1232 1247 1233 1246 1300 1261 1262 1248 1301 1231  453 1234 1223 1299  961\n",
      "  960  959  958  957  954  953  950  949  956  955]\n",
      "Iter 34: Training set: current loss 0.397468  ||  Validation set: current loss 0.397408\n",
      "Validation:  [1232 1247 1233 1246 1300 1261 1262 1248 1301 1231  453 1234 1223 1299  961\n",
      "  960  959  958  957  954  953  950  949  956  955]\n",
      "Iter 35: Training set: current loss 0.397163  ||  Validation set: current loss 0.397291\n",
      "Validation:  [1232 1247 1233 1246 1300 1261 1262 1248 1301 1231  453 1234 1223 1299  961\n",
      "  960  959  958  957  954  953  950  949  956  955]\n",
      "Iter 36: Training set: current loss 0.397090  ||  Validation set: current loss 0.397004\n",
      "Validation:  [1232 1247 1233 1246 1300 1261 1262 1248 1301 1231  453 1234 1223 1299  961\n",
      "  960  959  958  957  954  953  950  949  956  955]\n",
      "Iter 37: Training set: current loss 0.396951  ||  Validation set: current loss 0.396940\n",
      "Validation:  [1232 1247 1233 1246 1300 1261 1262 1248 1301 1231  453 1234 1223 1299  961\n",
      "  960  959  958  957  954  953  950  949  956  955]\n",
      "Iter 38: Training set: current loss 0.396695  ||  Validation set: current loss 0.396676\n",
      "Validation:  [1232 1247 1233 1246 1300 1261 1262 1248 1301 1231  453 1234 1223 1299  961\n",
      "  960  959  958  957  954  953  950  949  956  955]\n",
      "Iter 39: Training set: current loss 0.396513  ||  Validation set: current loss 0.396480\n",
      "Validation:  [1232 1247 1233 1246 1300 1261 1262 1248 1301 1231  453 1234 1223 1299  961\n",
      "  960  959  958  957  954  953  950  949  956  955]\n",
      "Iter 40: Training set: current loss 0.396370  ||  Validation set: current loss 0.396288\n",
      "Validation:  [1232 1247 1233 1246 1300 1261 1262 1248 1301 1231  453 1234 1223 1299  961\n",
      "  960  959  958  957  954  953  950  949  956  955]\n",
      "Iter 41: Training set: current loss 0.396073  ||  Validation set: current loss 0.396041\n",
      "Validation:  [1232 1247 1233 1246 1300 1261 1262 1248 1301 1231  453 1234 1223 1299  961\n",
      "  960  959  958  957  954  953  950  949  956  955]\n",
      "Iter 42: Training set: current loss 0.396068  ||  Validation set: current loss 0.395973\n",
      "Validation:  [1232 1247 1233 1246 1300 1261 1262 1248 1301 1231  453 1234 1223 1299  961\n",
      "  960  959  958  957  954  953  950  949  956  955]\n",
      "Iter 43: Training set: current loss 0.395755  ||  Validation set: current loss 0.395798\n",
      "Validation:  [1232 1247 1233 1246 1300 1261 1262 1248 1301 1231  453 1234 1223 1299  961\n",
      "  960  959  958  957  954  953  950  949  956  955]\n",
      "Iter 44: Training set: current loss 0.395605  ||  Validation set: current loss 0.395604\n",
      "Validation:  [1232 1247 1233 1246 1300 1261 1262 1248 1301 1231  453 1234 1223 1299  961\n",
      "  960  959  958  957  954  953  950  949  956  955]\n",
      "Iter 45: Training set: current loss 0.395529  ||  Validation set: current loss 0.395427\n",
      "Validation:  [1232 1247 1233 1246 1300 1261 1262 1248 1301 1231  453 1234 1223 1299  961\n",
      "  960  959  958  957  954  953  950  949  956  955]\n",
      "Iter 46: Training set: current loss 0.395293  ||  Validation set: current loss 0.395366\n",
      "Validation:  [1232 1247 1233 1246 1300 1261 1262 1248 1301 1231  453 1234 1223 1299  961\n",
      "  960  959  958  957  954  953  950  949  956  955]\n",
      "Iter 47: Training set: current loss 0.395363  ||  Validation set: current loss 0.395074\n",
      "Validation:  [1232 1247 1233 1246 1300 1261 1262 1248 1301 1231  453 1234 1223 1299  961\n",
      "  960  959  958  957  954  953  950  949  956  955]\n",
      "Iter 48: Training set: current loss 0.395053  ||  Validation set: current loss 0.394925\n",
      "Validation:  [1232 1247 1233 1246 1300 1261 1262 1248 1301 1231  453 1234 1223 1299  961\n",
      "  960  959  958  957  954  953  950  949  956 1245]\n",
      "Iter 49: Training set: current loss 0.394942  ||  Validation set: current loss 0.394779\n",
      "Validation:  [1232 1247 1233 1246 1300 1261 1262 1248 1301 1231  453 1234 1223 1299  961\n",
      "  960  959  958  957  954  953  950  949  956 1245]\n",
      "Iter 50: Training set: current loss 0.394747  ||  Validation set: current loss 0.394725\n",
      "Validation:  [1232 1247 1233 1246 1300 1261 1262 1248 1301 1231  453 1234 1223 1299  961\n",
      "  960  959  958  957  954  953  950  949  956 1245]\n",
      "Iter 51: Training set: current loss 0.394551  ||  Validation set: current loss 0.394474\n",
      "Validation:  [1232 1247 1233 1246 1300 1261 1262 1248 1301 1231  453 1234 1223 1299  961\n",
      "  960  959  958  957  954  953  950  949  956  955]\n",
      "Iter 52: Training set: current loss 0.394579  ||  Validation set: current loss 0.394383\n",
      "Validation:  [1232 1247 1233 1246 1300 1261 1262 1248 1301 1231  453 1234 1223 1299  961\n",
      "  960  959  958  957  954  953  950 1245  949  956]\n"
     ]
    },
    {
     "ename": "KeyboardInterrupt",
     "evalue": "",
     "output_type": "error",
     "traceback": [
      "\u001b[0;31m---------------------------------------------------------------------------\u001b[0m",
      "\u001b[0;31mKeyboardInterrupt\u001b[0m                         Traceback (most recent call last)",
      "\u001b[0;32m<ipython-input-24-f5793fef879c>\u001b[0m in \u001b[0;36m<module>\u001b[0;34m()\u001b[0m\n\u001b[1;32m      7\u001b[0m \u001b[0;34m\u001b[0m\u001b[0m\n\u001b[1;32m      8\u001b[0m \u001b[0;34m\u001b[0m\u001b[0m\n\u001b[0;32m----> 9\u001b[0;31m \u001b[0mcompres\u001b[0m\u001b[0;34m,\u001b[0m \u001b[0mrecons\u001b[0m \u001b[0;34m=\u001b[0m \u001b[0mautoencoder\u001b[0m\u001b[0;34m.\u001b[0m\u001b[0mfit\u001b[0m\u001b[0;34m(\u001b[0m\u001b[0mnp\u001b[0m\u001b[0;34m.\u001b[0m\u001b[0marray\u001b[0m\u001b[0;34m(\u001b[0m\u001b[0mdf\u001b[0m\u001b[0;34m)\u001b[0m\u001b[0;34m,\u001b[0m \u001b[0mvalidation_set\u001b[0m\u001b[0;34m=\u001b[0m\u001b[0mnp\u001b[0m\u001b[0;34m.\u001b[0m\u001b[0marray\u001b[0m\u001b[0;34m(\u001b[0m\u001b[0mdf\u001b[0m\u001b[0;34m)\u001b[0m\u001b[0;34m,\u001b[0m \u001b[0mtest_set\u001b[0m\u001b[0;34m=\u001b[0m\u001b[0mnp\u001b[0m\u001b[0;34m.\u001b[0m\u001b[0marray\u001b[0m\u001b[0;34m(\u001b[0m\u001b[0mdf\u001b[0m\u001b[0;34m)\u001b[0m\u001b[0;34m)\u001b[0m\u001b[0;34m\u001b[0m\u001b[0m\n\u001b[0m",
      "\u001b[0;32m/Users/sq/Documents/projects/projet3A/notebooks/autoencoder_rbm.py\u001b[0m in \u001b[0;36mfit\u001b[0;34m(self, train_set, validation_set, test_set, graph)\u001b[0m\n\u001b[1;32m    323\u001b[0m             \u001b[0;32mwith\u001b[0m \u001b[0mtf\u001b[0m\u001b[0;34m.\u001b[0m\u001b[0mSession\u001b[0m\u001b[0;34m(\u001b[0m\u001b[0mgraph\u001b[0m\u001b[0;34m=\u001b[0m\u001b[0mg\u001b[0m\u001b[0;34m)\u001b[0m \u001b[0;32mas\u001b[0m \u001b[0mself\u001b[0m\u001b[0;34m.\u001b[0m\u001b[0msess\u001b[0m\u001b[0;34m:\u001b[0m\u001b[0;34m\u001b[0m\u001b[0m\n\u001b[1;32m    324\u001b[0m                 \u001b[0mtf\u001b[0m\u001b[0;34m.\u001b[0m\u001b[0mglobal_variables_initializer\u001b[0m\u001b[0;34m(\u001b[0m\u001b[0;34m)\u001b[0m\u001b[0;34m.\u001b[0m\u001b[0mrun\u001b[0m\u001b[0;34m(\u001b[0m\u001b[0;34m)\u001b[0m\u001b[0;34m\u001b[0m\u001b[0m\n\u001b[0;32m--> 325\u001b[0;31m                 \u001b[0mself\u001b[0m\u001b[0;34m.\u001b[0m\u001b[0m_train_model\u001b[0m\u001b[0;34m(\u001b[0m\u001b[0mtrain_set\u001b[0m\u001b[0;34m,\u001b[0m \u001b[0mvalidation_set\u001b[0m\u001b[0;34m)\u001b[0m\u001b[0;34m\u001b[0m\u001b[0m\n\u001b[0m\u001b[1;32m    326\u001b[0m \u001b[0;34m\u001b[0m\u001b[0m\n\u001b[1;32m    327\u001b[0m                 \u001b[0;32mif\u001b[0m \u001b[0mtest_set\u001b[0m \u001b[0;32mis\u001b[0m \u001b[0;32mnot\u001b[0m \u001b[0;32mNone\u001b[0m\u001b[0;34m:\u001b[0m\u001b[0;34m\u001b[0m\u001b[0m\n",
      "\u001b[0;32m/Users/sq/Documents/projects/projet3A/notebooks/autoencoder_rbm.py\u001b[0m in \u001b[0;36m_train_model\u001b[0;34m(self, train_X, validation_X)\u001b[0m\n\u001b[1;32m    356\u001b[0m                         \u001b[0mself\u001b[0m\u001b[0;34m.\u001b[0m\u001b[0minput_data\u001b[0m\u001b[0;34m:\u001b[0m \u001b[0mbatch\u001b[0m\u001b[0;34m,\u001b[0m\u001b[0;34m\u001b[0m\u001b[0m\n\u001b[1;32m    357\u001b[0m                         self.keep_prob: self.finetune_dropout}\n\u001b[0;32m--> 358\u001b[0;31m                 \u001b[0mself\u001b[0m\u001b[0;34m.\u001b[0m\u001b[0msess\u001b[0m\u001b[0;34m.\u001b[0m\u001b[0mrun\u001b[0m\u001b[0;34m(\u001b[0m\u001b[0mself\u001b[0m\u001b[0;34m.\u001b[0m\u001b[0mtrain_step\u001b[0m\u001b[0;34m,\u001b[0m \u001b[0mfeed_dict\u001b[0m\u001b[0;34m=\u001b[0m\u001b[0mfeed_batch\u001b[0m\u001b[0;34m)\u001b[0m\u001b[0;34m\u001b[0m\u001b[0m\n\u001b[0m\u001b[1;32m    359\u001b[0m \u001b[0;34m\u001b[0m\u001b[0m\n\u001b[1;32m    360\u001b[0m             \u001b[0mprint\u001b[0m\u001b[0;34m(\u001b[0m\u001b[0;34m'Iter %d'\u001b[0m \u001b[0;34m%\u001b[0m \u001b[0miteration\u001b[0m\u001b[0;34m,\u001b[0m \u001b[0mend\u001b[0m\u001b[0;34m=\u001b[0m\u001b[0;34m': '\u001b[0m\u001b[0;34m)\u001b[0m\u001b[0;34m\u001b[0m\u001b[0m\n",
      "\u001b[0;32m/usr/local/lib/python3.5/site-packages/tensorflow/python/client/session.py\u001b[0m in \u001b[0;36mrun\u001b[0;34m(self, fetches, feed_dict, options, run_metadata)\u001b[0m\n\u001b[1;32m    765\u001b[0m     \u001b[0;32mtry\u001b[0m\u001b[0;34m:\u001b[0m\u001b[0;34m\u001b[0m\u001b[0m\n\u001b[1;32m    766\u001b[0m       result = self._run(None, fetches, feed_dict, options_ptr,\n\u001b[0;32m--> 767\u001b[0;31m                          run_metadata_ptr)\n\u001b[0m\u001b[1;32m    768\u001b[0m       \u001b[0;32mif\u001b[0m \u001b[0mrun_metadata\u001b[0m\u001b[0;34m:\u001b[0m\u001b[0;34m\u001b[0m\u001b[0m\n\u001b[1;32m    769\u001b[0m         \u001b[0mproto_data\u001b[0m \u001b[0;34m=\u001b[0m \u001b[0mtf_session\u001b[0m\u001b[0;34m.\u001b[0m\u001b[0mTF_GetBuffer\u001b[0m\u001b[0;34m(\u001b[0m\u001b[0mrun_metadata_ptr\u001b[0m\u001b[0;34m)\u001b[0m\u001b[0;34m\u001b[0m\u001b[0m\n",
      "\u001b[0;32m/usr/local/lib/python3.5/site-packages/tensorflow/python/client/session.py\u001b[0m in \u001b[0;36m_run\u001b[0;34m(self, handle, fetches, feed_dict, options, run_metadata)\u001b[0m\n\u001b[1;32m    963\u001b[0m     \u001b[0;32mif\u001b[0m \u001b[0mfinal_fetches\u001b[0m \u001b[0;32mor\u001b[0m \u001b[0mfinal_targets\u001b[0m\u001b[0;34m:\u001b[0m\u001b[0;34m\u001b[0m\u001b[0m\n\u001b[1;32m    964\u001b[0m       results = self._do_run(handle, final_targets, final_fetches,\n\u001b[0;32m--> 965\u001b[0;31m                              feed_dict_string, options, run_metadata)\n\u001b[0m\u001b[1;32m    966\u001b[0m     \u001b[0;32melse\u001b[0m\u001b[0;34m:\u001b[0m\u001b[0;34m\u001b[0m\u001b[0m\n\u001b[1;32m    967\u001b[0m       \u001b[0mresults\u001b[0m \u001b[0;34m=\u001b[0m \u001b[0;34m[\u001b[0m\u001b[0;34m]\u001b[0m\u001b[0;34m\u001b[0m\u001b[0m\n",
      "\u001b[0;32m/usr/local/lib/python3.5/site-packages/tensorflow/python/client/session.py\u001b[0m in \u001b[0;36m_do_run\u001b[0;34m(self, handle, target_list, fetch_list, feed_dict, options, run_metadata)\u001b[0m\n\u001b[1;32m   1013\u001b[0m     \u001b[0;32mif\u001b[0m \u001b[0mhandle\u001b[0m \u001b[0;32mis\u001b[0m \u001b[0;32mNone\u001b[0m\u001b[0;34m:\u001b[0m\u001b[0;34m\u001b[0m\u001b[0m\n\u001b[1;32m   1014\u001b[0m       return self._do_call(_run_fn, self._session, feed_dict, fetch_list,\n\u001b[0;32m-> 1015\u001b[0;31m                            target_list, options, run_metadata)\n\u001b[0m\u001b[1;32m   1016\u001b[0m     \u001b[0;32melse\u001b[0m\u001b[0;34m:\u001b[0m\u001b[0;34m\u001b[0m\u001b[0m\n\u001b[1;32m   1017\u001b[0m       return self._do_call(_prun_fn, self._session, handle, feed_dict,\n",
      "\u001b[0;32m/usr/local/lib/python3.5/site-packages/tensorflow/python/client/session.py\u001b[0m in \u001b[0;36m_do_call\u001b[0;34m(self, fn, *args)\u001b[0m\n\u001b[1;32m   1020\u001b[0m   \u001b[0;32mdef\u001b[0m \u001b[0m_do_call\u001b[0m\u001b[0;34m(\u001b[0m\u001b[0mself\u001b[0m\u001b[0;34m,\u001b[0m \u001b[0mfn\u001b[0m\u001b[0;34m,\u001b[0m \u001b[0;34m*\u001b[0m\u001b[0margs\u001b[0m\u001b[0;34m)\u001b[0m\u001b[0;34m:\u001b[0m\u001b[0;34m\u001b[0m\u001b[0m\n\u001b[1;32m   1021\u001b[0m     \u001b[0;32mtry\u001b[0m\u001b[0;34m:\u001b[0m\u001b[0;34m\u001b[0m\u001b[0m\n\u001b[0;32m-> 1022\u001b[0;31m       \u001b[0;32mreturn\u001b[0m \u001b[0mfn\u001b[0m\u001b[0;34m(\u001b[0m\u001b[0;34m*\u001b[0m\u001b[0margs\u001b[0m\u001b[0;34m)\u001b[0m\u001b[0;34m\u001b[0m\u001b[0m\n\u001b[0m\u001b[1;32m   1023\u001b[0m     \u001b[0;32mexcept\u001b[0m \u001b[0merrors\u001b[0m\u001b[0;34m.\u001b[0m\u001b[0mOpError\u001b[0m \u001b[0;32mas\u001b[0m \u001b[0me\u001b[0m\u001b[0;34m:\u001b[0m\u001b[0;34m\u001b[0m\u001b[0m\n\u001b[1;32m   1024\u001b[0m       \u001b[0mmessage\u001b[0m \u001b[0;34m=\u001b[0m \u001b[0mcompat\u001b[0m\u001b[0;34m.\u001b[0m\u001b[0mas_text\u001b[0m\u001b[0;34m(\u001b[0m\u001b[0me\u001b[0m\u001b[0;34m.\u001b[0m\u001b[0mmessage\u001b[0m\u001b[0;34m)\u001b[0m\u001b[0;34m\u001b[0m\u001b[0m\n",
      "\u001b[0;32m/usr/local/lib/python3.5/site-packages/tensorflow/python/client/session.py\u001b[0m in \u001b[0;36m_run_fn\u001b[0;34m(session, feed_dict, fetch_list, target_list, options, run_metadata)\u001b[0m\n\u001b[1;32m   1002\u001b[0m         return tf_session.TF_Run(session, options,\n\u001b[1;32m   1003\u001b[0m                                  \u001b[0mfeed_dict\u001b[0m\u001b[0;34m,\u001b[0m \u001b[0mfetch_list\u001b[0m\u001b[0;34m,\u001b[0m \u001b[0mtarget_list\u001b[0m\u001b[0;34m,\u001b[0m\u001b[0;34m\u001b[0m\u001b[0m\n\u001b[0;32m-> 1004\u001b[0;31m                                  status, run_metadata)\n\u001b[0m\u001b[1;32m   1005\u001b[0m \u001b[0;34m\u001b[0m\u001b[0m\n\u001b[1;32m   1006\u001b[0m     \u001b[0;32mdef\u001b[0m \u001b[0m_prun_fn\u001b[0m\u001b[0;34m(\u001b[0m\u001b[0msession\u001b[0m\u001b[0;34m,\u001b[0m \u001b[0mhandle\u001b[0m\u001b[0;34m,\u001b[0m \u001b[0mfeed_dict\u001b[0m\u001b[0;34m,\u001b[0m \u001b[0mfetch_list\u001b[0m\u001b[0;34m)\u001b[0m\u001b[0;34m:\u001b[0m\u001b[0;34m\u001b[0m\u001b[0m\n",
      "\u001b[0;31mKeyboardInterrupt\u001b[0m: "
     ]
    }
   ],
   "source": [
    "autoencoder = Autoencoder_RBM(rbm_layers=[4000, 1000, 500],\n",
    "                              rbm_gauss_visible=True,\n",
    "                              rbm_num_epochs=[5],\n",
    "                              finetune_num_epochs=200,\n",
    "                              do_pretrain=True,\n",
    "                              finetune_loss_func='mse')\n",
    "\n",
    "\n",
    "compres, recons = autoencoder.fit(np.array(df), validation_set=np.array(df), test_set=np.array(df))"
   ]
  }
 ],
 "metadata": {
  "kernelspec": {
   "display_name": "Python 3",
   "language": "python",
   "name": "python3"
  },
  "language_info": {
   "codemirror_mode": {
    "name": "ipython",
    "version": 3
   },
   "file_extension": ".py",
   "mimetype": "text/x-python",
   "name": "python",
   "nbconvert_exporter": "python",
   "pygments_lexer": "ipython3",
   "version": "3.5.2"
  }
 },
 "nbformat": 4,
 "nbformat_minor": 1
}
